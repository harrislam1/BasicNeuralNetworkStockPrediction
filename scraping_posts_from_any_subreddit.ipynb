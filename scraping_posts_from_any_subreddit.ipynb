{
  "nbformat": 4,
  "nbformat_minor": 0,
  "metadata": {
    "colab": {
      "name": "scraping_posts_from_any_subreddit.ipynb",
      "provenance": [],
      "authorship_tag": "ABX9TyNjhrma3/8aWKnWa7EBUvXI",
      "include_colab_link": true
    },
    "kernelspec": {
      "name": "python3",
      "display_name": "Python 3"
    }
  },
  "cells": [
    {
      "cell_type": "markdown",
      "metadata": {
        "id": "view-in-github",
        "colab_type": "text"
      },
      "source": [
        "<a href=\"https://colab.research.google.com/github/harrislam1/StockProject/blob/main/scraping_posts_from_any_subreddit.ipynb\" target=\"_parent\"><img src=\"https://colab.research.google.com/assets/colab-badge.svg\" alt=\"Open In Colab\"/></a>"
      ]
    },
    {
      "cell_type": "markdown",
      "metadata": {
        "id": "wfRKTUl6k8cj"
      },
      "source": [
        "#What is this?\n",
        "So this notebook shows how to use this API that can help scrape reddit posts from any given subreddit."
      ]
    },
    {
      "cell_type": "code",
      "metadata": {
        "colab": {
          "base_uri": "https://localhost:8080/"
        },
        "id": "wT3hrtJblrEA",
        "outputId": "75f35dfc-dd09-4b69-b67f-fd9ba46115ed"
      },
      "source": [
        "!pip install psaw\n"
      ],
      "execution_count": null,
      "outputs": [
        {
          "output_type": "stream",
          "text": [
            "Requirement already satisfied: psaw in /usr/local/lib/python3.7/dist-packages (0.1.0)\n",
            "Requirement already satisfied: Click in /usr/local/lib/python3.7/dist-packages (from psaw) (7.1.2)\n",
            "Requirement already satisfied: requests in /usr/local/lib/python3.7/dist-packages (from psaw) (2.23.0)\n",
            "Requirement already satisfied: certifi>=2017.4.17 in /usr/local/lib/python3.7/dist-packages (from requests->psaw) (2020.12.5)\n",
            "Requirement already satisfied: idna<3,>=2.5 in /usr/local/lib/python3.7/dist-packages (from requests->psaw) (2.10)\n",
            "Requirement already satisfied: chardet<4,>=3.0.2 in /usr/local/lib/python3.7/dist-packages (from requests->psaw) (3.0.4)\n",
            "Requirement already satisfied: urllib3!=1.25.0,!=1.25.1,<1.26,>=1.21.1 in /usr/local/lib/python3.7/dist-packages (from requests->psaw) (1.24.3)\n"
          ],
          "name": "stdout"
        }
      ]
    },
    {
      "cell_type": "code",
      "metadata": {
        "id": "K1uPH0_JmXDo"
      },
      "source": [
        "from psaw import PushshiftAPI #this is the API being used\n",
        "import pandas as pd\n",
        "import datetime as dt"
      ],
      "execution_count": null,
      "outputs": []
    },
    {
      "cell_type": "code",
      "metadata": {
        "id": "MYw5xfsFl_BF"
      },
      "source": [
        "#initializing the api client(whatever that means)\n",
        "api = PushshiftAPI()\n",
        "#this is the date you want to get posts from(change it to whatever date you want, try today's date if can)\n",
        "start_epoch=int(dt.datetime(2021, 3, 9).timestamp())\n"
      ],
      "execution_count": null,
      "outputs": []
    },
    {
      "cell_type": "code",
      "metadata": {
        "colab": {
          "base_uri": "https://localhost:8080/"
        },
        "id": "LWhj53V1m5DV",
        "outputId": "a3db77f4-6d9e-4e38-c8ec-cd1a66a937fa"
      },
      "source": [
        "#\"search_submissions\" is a function from the API that gets reddit posts based on parameters you give it\n",
        "submissions=list(api.search_submissions(after=start_epoch,\n",
        "                            subreddit='wallstreetbets',\n",
        "                            filter=['url','author', 'title','selftext', 'subreddit'],\n",
        "                            limit=1000))\n",
        "\n",
        "stock_list=[]\n",
        "created_utc_list=[]\n",
        "url_list=[]\n",
        "author_list=[]\n",
        "title_list=[]\n",
        "selftext_list=[]\n",
        "for posts in submissions:\n",
        "  words=posts.title.split()\n",
        "  #print(words)\n",
        "  cashtags=list(set(filter(lambda word: word.lower().startswith('$'), words)))\n",
        "  if len(cashtags)>0:\n",
        "    # print(posts.created_utc)\n",
        "    # print(posts.url)\n",
        "    # print(posts.author)\n",
        "    # print(posts.title)\n",
        "    stock_list.append(cashtags)\n",
        "    created_utc_list.append(posts.created_utc)\n",
        "    url_list.append(posts.url)\n",
        "    author_list.append(posts.author)\n",
        "    title_list.append(posts.title)\n",
        "    selftext_list.append(posts.selftext)"
      ],
      "execution_count": null,
      "outputs": [
        {
          "output_type": "stream",
          "text": [
            "/usr/local/lib/python3.7/dist-packages/psaw/PushshiftAPI.py:192: UserWarning: Got non 200 code 429\n",
            "  warnings.warn(\"Got non 200 code %s\" % response.status_code)\n",
            "/usr/local/lib/python3.7/dist-packages/psaw/PushshiftAPI.py:180: UserWarning: Unable to connect to pushshift.io. Retrying after backoff.\n",
            "  warnings.warn(\"Unable to connect to pushshift.io. Retrying after backoff.\")\n"
          ],
          "name": "stderr"
        }
      ]
    },
    {
      "cell_type": "code",
      "metadata": {
        "colab": {
          "base_uri": "https://localhost:8080/"
        },
        "id": "Givo5xUlw1dO",
        "outputId": "6a9f1147-7d2e-4f43-8061-34aa72576d51"
      },
      "source": [
        "#checking if for loop ended up working or not\n",
        "len(created_utc_list)==len(author_list)==len(url_list)==len(title_list)==len(selftext_list)"
      ],
      "execution_count": null,
      "outputs": [
        {
          "output_type": "execute_result",
          "data": {
            "text/plain": [
              "True"
            ]
          },
          "metadata": {
            "tags": []
          },
          "execution_count": 64
        }
      ]
    },
    {
      "cell_type": "code",
      "metadata": {
        "colab": {
          "base_uri": "https://localhost:8080/",
          "height": 554
        },
        "id": "3QRf33KYxjV6",
        "outputId": "a424ce8b-8b7d-4e9d-a50d-d07d36974900"
      },
      "source": [
        "#this is the dataframe of posts for the particular date\n",
        "df=pd.DataFrame(list(zip(created_utc_list,url_list,author_list,title_list,selftext_list)), columns=['created_utc','url','author','title','selftext'])\n",
        "df"
      ],
      "execution_count": null,
      "outputs": [
        {
          "output_type": "execute_result",
          "data": {
            "text/html": [
              "<div>\n",
              "<style scoped>\n",
              "    .dataframe tbody tr th:only-of-type {\n",
              "        vertical-align: middle;\n",
              "    }\n",
              "\n",
              "    .dataframe tbody tr th {\n",
              "        vertical-align: top;\n",
              "    }\n",
              "\n",
              "    .dataframe thead th {\n",
              "        text-align: right;\n",
              "    }\n",
              "</style>\n",
              "<table border=\"1\" class=\"dataframe\">\n",
              "  <thead>\n",
              "    <tr style=\"text-align: right;\">\n",
              "      <th></th>\n",
              "      <th>created_utc</th>\n",
              "      <th>url</th>\n",
              "      <th>author</th>\n",
              "      <th>title</th>\n",
              "      <th>selftext</th>\n",
              "    </tr>\n",
              "  </thead>\n",
              "  <tbody>\n",
              "    <tr>\n",
              "      <th>0</th>\n",
              "      <td>1615475132</td>\n",
              "      <td>https://www.reddit.com/r/wallstreetbets/commen...</td>\n",
              "      <td>folkwoodswest</td>\n",
              "      <td>Why Apple's Stock Sell-Off Is A Golden Buying ...</td>\n",
              "      <td>[Shanthi Rexaline](https://www.benzinga.com/us...</td>\n",
              "    </tr>\n",
              "    <tr>\n",
              "      <th>1</th>\n",
              "      <td>1615475055</td>\n",
              "      <td>https://www.reddit.com/r/wallstreetbets/commen...</td>\n",
              "      <td>moneyman10k</td>\n",
              "      <td>A ticket to the theaters😏$AMC AND $GME TO THE ...</td>\n",
              "      <td></td>\n",
              "    </tr>\n",
              "    <tr>\n",
              "      <th>2</th>\n",
              "      <td>1615474971</td>\n",
              "      <td>https://www.reddit.com/r/wallstreetbets/commen...</td>\n",
              "      <td>Comfortable_Ad_2346</td>\n",
              "      <td>Shorts on $AMC down 195% Y-2-D</td>\n",
              "      <td>&amp;amp;#x200B;\\n\\nhttps://preview.redd.it/6pb83u...</td>\n",
              "    </tr>\n",
              "    <tr>\n",
              "      <th>3</th>\n",
              "      <td>1615474931</td>\n",
              "      <td>https://www.reddit.com/gallery/m2s5ao</td>\n",
              "      <td>MJS103</td>\n",
              "      <td>I have $0 in the bank now</td>\n",
              "      <td></td>\n",
              "    </tr>\n",
              "    <tr>\n",
              "      <th>4</th>\n",
              "      <td>1615474910</td>\n",
              "      <td>https://www.reddit.com/r/wallstreetbets/commen...</td>\n",
              "      <td>UwUtisum</td>\n",
              "      <td>Is anyone else interested in $RBLX After it we...</td>\n",
              "      <td></td>\n",
              "    </tr>\n",
              "    <tr>\n",
              "      <th>...</th>\n",
              "      <td>...</td>\n",
              "      <td>...</td>\n",
              "      <td>...</td>\n",
              "      <td>...</td>\n",
              "      <td>...</td>\n",
              "    </tr>\n",
              "    <tr>\n",
              "      <th>120</th>\n",
              "      <td>1615462668</td>\n",
              "      <td>https://www.reddit.com/r/wallstreetbets/commen...</td>\n",
              "      <td>MohnR03</td>\n",
              "      <td>$OGI here we go!</td>\n",
              "      <td>Huge investment from $BTI, hoping for a buyout...</td>\n",
              "    </tr>\n",
              "    <tr>\n",
              "      <th>121</th>\n",
              "      <td>1615462497</td>\n",
              "      <td>https://i.redd.it/a215ijwvxdm61.gif</td>\n",
              "      <td>Uptomyhighballs</td>\n",
              "      <td>What do when you need to chop down the Hedges?...</td>\n",
              "      <td></td>\n",
              "    </tr>\n",
              "    <tr>\n",
              "      <th>122</th>\n",
              "      <td>1615462153</td>\n",
              "      <td>https://v.redd.it/abh331yjwdm61</td>\n",
              "      <td>maiiixx</td>\n",
              "      <td>Took a little longer than expected to make The...</td>\n",
              "      <td></td>\n",
              "    </tr>\n",
              "    <tr>\n",
              "      <th>123</th>\n",
              "      <td>1615462033</td>\n",
              "      <td>https://i.redd.it/ciuccxhiwdm61.jpg</td>\n",
              "      <td>Available-Marsupial8</td>\n",
              "      <td>I AM MR DIAMOND HANDS AND I APPROVE THE STOCK ...</td>\n",
              "      <td></td>\n",
              "    </tr>\n",
              "    <tr>\n",
              "      <th>124</th>\n",
              "      <td>1615462017</td>\n",
              "      <td>https://www.reddit.com/r/wallstreetbets/commen...</td>\n",
              "      <td>shalevc000</td>\n",
              "      <td>My relationship with $RBLX$</td>\n",
              "      <td>yolo'd roblox got in on 100 shares when it was...</td>\n",
              "    </tr>\n",
              "  </tbody>\n",
              "</table>\n",
              "<p>125 rows × 5 columns</p>\n",
              "</div>"
            ],
            "text/plain": [
              "     created_utc  ...                                           selftext\n",
              "0     1615475132  ...  [Shanthi Rexaline](https://www.benzinga.com/us...\n",
              "1     1615475055  ...                                                   \n",
              "2     1615474971  ...  &amp;#x200B;\\n\\nhttps://preview.redd.it/6pb83u...\n",
              "3     1615474931  ...                                                   \n",
              "4     1615474910  ...                                                   \n",
              "..           ...  ...                                                ...\n",
              "120   1615462668  ...  Huge investment from $BTI, hoping for a buyout...\n",
              "121   1615462497  ...                                                   \n",
              "122   1615462153  ...                                                   \n",
              "123   1615462033  ...                                                   \n",
              "124   1615462017  ...  yolo'd roblox got in on 100 shares when it was...\n",
              "\n",
              "[125 rows x 5 columns]"
            ]
          },
          "metadata": {
            "tags": []
          },
          "execution_count": 66
        }
      ]
    },
    {
      "cell_type": "code",
      "metadata": {
        "colab": {
          "base_uri": "https://localhost:8080/"
        },
        "id": "vDQG6Ww1pvIU",
        "outputId": "9b9a8a95-fb92-4259-caf5-f836135af87d"
      },
      "source": [
        "#this is a list of stocks that were named on all the title posts in the subreddit for that timeframe , needs more cleaning/better filtering unfortunately\n",
        "stock_list"
      ],
      "execution_count": null,
      "outputs": [
        {
          "output_type": "execute_result",
          "data": {
            "text/plain": [
              "[['$AMC'],\n",
              " ['$0'],\n",
              " ['$RBLX'],\n",
              " ['$15'],\n",
              " ['$10,'],\n",
              " ['$GME'],\n",
              " ['$WWE'],\n",
              " ['$RBLX'],\n",
              " ['$230K', '$6.97', '$2.4'],\n",
              " ['$800', '$10.5M'],\n",
              " ['$SOS'],\n",
              " ['$G(A)ME'],\n",
              " ['$237.44.'],\n",
              " ['$AIM'],\n",
              " ['$77.77'],\n",
              " ['$240'],\n",
              " ['$GOGO'],\n",
              " ['$ZOM'],\n",
              " ['$UWMC:'],\n",
              " ['$RBLX-'],\n",
              " ['$332'],\n",
              " ['$4k'],\n",
              " ['$348'],\n",
              " ['$ENTX'],\n",
              " ['$400!'],\n",
              " ['$RBLX'],\n",
              " ['$GME'],\n",
              " ['$RBLX'],\n",
              " ['$bili?'],\n",
              " ['$CLSN'],\n",
              " ['$GME'],\n",
              " ['$RBLX'],\n",
              " ['$CCIV'],\n",
              " ['$SLGG'],\n",
              " ['$DIS'],\n",
              " ['$500?'],\n",
              " ['$GNOG'],\n",
              " ['$5', '$400'],\n",
              " ['$100+'],\n",
              " ['$AMC'],\n",
              " ['$0.07,'],\n",
              " ['$6999', '$VIR'],\n",
              " ['$bili?'],\n",
              " ['$GME'],\n",
              " ['$VIR'],\n",
              " ['$RBLX'],\n",
              " ['$GME'],\n",
              " ['$400'],\n",
              " ['$500'],\n",
              " ['$GNOG'],\n",
              " ['$238.50'],\n",
              " ['$RBLX'],\n",
              " ['$PLTR)'],\n",
              " ['$GME'],\n",
              " ['$GME'],\n",
              " ['$ABML'],\n",
              " ['$GRIN', '$GRUSF'],\n",
              " ['$BCRX'],\n",
              " ['$238.50'],\n",
              " ['$238.50'],\n",
              " ['$tonks'],\n",
              " ['$GME'],\n",
              " ['$500?', '$2500', '$500k', '$2000,'],\n",
              " ['$247,', '$349.', '$335.59.'],\n",
              " ['$500'],\n",
              " ['$500-'],\n",
              " ['$ALPP'],\n",
              " ['$ocgn'],\n",
              " ['$SEARS'],\n",
              " ['$SILC', '$100-150'],\n",
              " ['$176.6'],\n",
              " ['$221M'],\n",
              " ['$GME,', '$GME/ape'],\n",
              " ['$ocgn'],\n",
              " ['$176.6'],\n",
              " ['$GME', '$ROOT'],\n",
              " ['$GME', '$ALPP'],\n",
              " ['$176.6'],\n",
              " ['$CEI'],\n",
              " ['$GME'],\n",
              " ['$300'],\n",
              " ['$GME'],\n",
              " ['$MDMP'],\n",
              " ['$amd', '$gme'],\n",
              " ['$MDMP'],\n",
              " ['$ocgn'],\n",
              " ['$46ish!!!'],\n",
              " ['$GME'],\n",
              " ['$RBLX'],\n",
              " ['$18,000,', '$875.'],\n",
              " ['$GME'],\n",
              " ['$3'],\n",
              " ['$GE'],\n",
              " ['$EXPE'],\n",
              " ['$500k,'],\n",
              " ['$500,000'],\n",
              " ['$350'],\n",
              " ['$GE'],\n",
              " ['$3'],\n",
              " ['$SEARS'],\n",
              " ['$RBLX'],\n",
              " ['$F'],\n",
              " ['$14', '$8.50'],\n",
              " ['$3'],\n",
              " ['$GME'],\n",
              " ['$RBLX'],\n",
              " ['$AMC'],\n",
              " ['$GME'],\n",
              " ['$14.55'],\n",
              " ['$3'],\n",
              " ['$15M'],\n",
              " ['$GME'],\n",
              " ['$AMC', '$Xela'],\n",
              " ['$GME'],\n",
              " ['$15M'],\n",
              " ['$6.9'],\n",
              " ['$3'],\n",
              " ['$1000'],\n",
              " ['$OGI'],\n",
              " ['$GME'],\n",
              " ['$GME'],\n",
              " ['$500,000/SHARE.'],\n",
              " ['$RBLX$']]"
            ]
          },
          "metadata": {
            "tags": []
          },
          "execution_count": 62
        }
      ]
    },
    {
      "cell_type": "code",
      "metadata": {
        "colab": {
          "base_uri": "https://localhost:8080/",
          "height": 53
        },
        "id": "3Ezbvo8p05-b",
        "outputId": "9b418c82-4b4e-478d-f2c9-87daa908d29a"
      },
      "source": [
        "df.selftext.loc[124]"
      ],
      "execution_count": null,
      "outputs": [
        {
          "output_type": "execute_result",
          "data": {
            "application/vnd.google.colaboratory.intrinsic+json": {
              "type": "string"
            },
            "text/plain": [
              "\"yolo'd roblox got in on 100 shares when it was 69 i wont sell untill its 250 at leas lol im an ape lolo rblx to the moon and me to a private island\""
            ]
          },
          "metadata": {
            "tags": []
          },
          "execution_count": 70
        }
      ]
    },
    {
      "cell_type": "markdown",
      "metadata": {
        "id": "3V8UamoXrOIB"
      },
      "source": [
        "#Notes\n",
        "\n",
        "* Since company stocks are usually mentioned with a \n",
        "dollar sign before being mentioned on the subreddits(\\$GME, \\$AMC), the for loop solely looks for titles that have a dollar sign before it.\n",
        "* We only get the tile of the posts, author, url, creation time for the specified date.\n",
        "* We can't get same day posts for some reason(need to do more research, can you try it to see if it works for you?)\n"
      ]
    },
    {
      "cell_type": "markdown",
      "metadata": {
        "id": "HFazfF5l2gPU"
      },
      "source": [
        "# Why this API can be helpful for a stock prediction project?\n",
        "\n",
        "* idk... Doing \"sentiment analysis\" can be a factor we consider in terms of figuring out which stocks to buy based on how much chatter there are on subreddits? \n",
        "\n",
        "* At the end of the day, no matter how great an NLP algorithm we figure out to do this, all it will do is measure how positively/negatively a stock is being talked about on a specific subreddit. I don't know how this will help predict rise or fall of stock prices."
      ]
    },
    {
      "cell_type": "code",
      "metadata": {
        "id": "cPdMeIv3pv_t"
      },
      "source": [
        ""
      ],
      "execution_count": null,
      "outputs": []
    }
  ]
}
